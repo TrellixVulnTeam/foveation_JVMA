{
 "cells": [
  {
   "cell_type": "code",
   "execution_count": 1,
   "metadata": {},
   "outputs": [
    {
     "data": {
      "text/plain": [
       "'/Users/vanessa/src/foveation/notebooks'"
      ]
     },
     "execution_count": 1,
     "metadata": {},
     "output_type": "execute_result"
    }
   ],
   "source": [
    "pwd"
   ]
  },
  {
   "cell_type": "code",
   "execution_count": 2,
   "metadata": {},
   "outputs": [],
   "source": [
    "import numpy as np\n",
    "import matplotlib.pyplot as plt\n",
    "from mpl_toolkits.mplot3d import Axes3D  # noqa: F401 unused import"
   ]
  },
  {
   "cell_type": "code",
   "execution_count": 103,
   "metadata": {},
   "outputs": [],
   "source": [
    "class DatasetGenerator():\n",
    "\n",
    "    def __init__(self, \n",
    "                 p, \n",
    "                 N, \n",
    "                 K, \n",
    "                 class_task=False):\n",
    "        \"\"\"\n",
    "        Generate dataset for a supervised learning task. The features are extracted using \n",
    "        Gaussian distributions.\n",
    "        :param p: int, of relevant features\n",
    "        :param N: int, number of data\n",
    "        :param K: int, output dimension for regression, number of classes for classification task\n",
    "        :param classification: bool, if False regression, else classification dataset\n",
    "        \"\"\"\n",
    "        self.p = p\n",
    "        self.N = N\n",
    "        self.K = K\n",
    "        self.class_task = class_task  \n",
    "        \n",
    "        \n",
    "    def generate_minimal_data(self, mu_array, sigma_array, regression_rule=None):\n",
    "        \"\"\"\n",
    "        Here we generate the data by using the relevant features only. \n",
    "        Each feature is Gaussianly distributed. Mean and standard\n",
    "        deviation for each variable varies depending on the user specification. \n",
    "        \n",
    "        The generic i-th feature is x_i\n",
    "                    x_i = mean_i + N(0,1) * std_i, x_i in R^n_samples\n",
    "                                \n",
    "        The labels are generating depending on the learning task.\n",
    "        If class_task is False, a regression rule is needed, and\n",
    "            y_k = np.dot(regression_rule, x_k)  , x_k in R^n_features,\n",
    "      \n",
    "        If class_task is True, the classifier the two distribution are\n",
    "        given different values. # at the moment we are not considering the\n",
    "        multiclassification case.\n",
    "            :param mu_array: np.array (self.p) of means if regression, otherwise\n",
    "            (self.K, self.p) array for classification\n",
    "            :param sigma_array: np.array (self.p) of standard deviations, otherwise\n",
    "            (self.K, self.p) array for classification\n",
    "            :param regression_rule: regression function, only if self.class_task is False\n",
    "        \"\"\"\n",
    "        if (not self.class_task and regression_rule is None): # for regreession task\n",
    "            raise ValueError(\"You need a learning rule to generate the regression law.\")\n",
    "        \n",
    "        # regression task\n",
    "        if not self.class_task:  \n",
    "            regression_rule = np.squeeze(regression_rule)\n",
    "            \n",
    "            if regression_rule.ndim == 1:  # p or K are equal to one\n",
    "                if (regression_rule.size != self.p and regression_rule.size != self.K):\n",
    "                    raise ValueError(\"The regression rule does not match the data dimensionality\")\n",
    "            else:  # if the dimensionality if bigger than one\n",
    "                check_output, check_input = regression_rule.shape\n",
    "                if (check_output != self.K or check_input != self.p):\n",
    "                    raise ValueError(\"The dimensions for the regression rule do not match the data\")  \n",
    "                    \n",
    "            X = np.random.randn(self.p, self.N)  # we generate the new dataset\n",
    "            for id_, (mu_, sigma_) in enumerate(zip(mu_array, sigma_array)):\n",
    "                X[id_] *= sigma_\n",
    "                X[id_] += mu_\n",
    "            self.X = X\n",
    "            if self.K != 1 and self.p == 1:  # if the number of output != 1\n",
    "                regression_rule = regression_rule.reshape(-1,1)\n",
    "            elif self.K == 1 and self.p != 1:\n",
    "                regression_rule = regression_rule.reshape(-1,)\n",
    "            self.y = np.dot(regression_rule, X)\n",
    "\n",
    "        else:\n",
    "            check_output_mu, check_input_mu = np.squeeze(mu_array).shape\n",
    "            check_output_st, check_input_st = np.squeeze(mu_array).shape\n",
    "            \n",
    "            if check_output_mu != self.K or check_output_st != self.K:\n",
    "                raise ValueError(\"Arrays inconsistent with the number of classes\")\n",
    "            \n",
    "            N_per_class = self.N // self.K\n",
    "            \n",
    "            X = np.zeros((self.p, self.N))\n",
    "            y = np.zeros((self.K, self.N))\n",
    "            for k_,(mu_class_, sigma_class_) in enumerate(zip(mu_array, sigma_array)):  # for each class\n",
    "                first_ = k_*N_per_class\n",
    "                last_ = self.N if k_ == self.K-1 else (k_+1)*N_per_class\n",
    "                for id_, (mu_, sigma_) in enumerate(zip(mu_class_, sigma_class_)):\n",
    "                    X[id_, first_:last_] = mu_ + np.random.randn(last_ - first_) * sigma_\n",
    "                y[k_, first_:last_] = 1\n",
    "                \n",
    "            self.y = y\n",
    "            self.X = X\n",
    "            \n",
    "        self.minimal_dataset = True\n",
    "\n",
    "        return self\n",
    "\n",
    "\n",
    "    def add_redundancy(self, add_p=None, A=None):\n",
    "        \"\"\" We add redundancy to the dataset. \n",
    "        Using a linear combination of the input features.\n",
    "        :params add_p: int, number of additional features,\n",
    "        :params A: default None, or np.array, linear transformation,\n",
    "        the new features are concatenated to the original features\n",
    "        :returns X_transf: the dataset with additional features\n",
    "        \"\"\"\n",
    "        if not self.minimal_dataset:\n",
    "            raise ValueError(\"Generate the dataset first\")\n",
    "        \n",
    "        if A is not None:\n",
    "            check_add_feat, check_d = A.shape\n",
    "            if check_d != self.p:\n",
    "                raise ValueError(\"The dimension of the transformation does not check the amount of features\")\n",
    "        \n",
    "        elif add_p is not None:\n",
    "            A = np.random.randn(add_p, self.p)\n",
    "        self.A = A\n",
    "        \n",
    "        X_append = A.dot(self.X)\n",
    "        return np.vstack((self.X, X_append))\n",
    "\n",
    "\n",
    "    def add_noise(self, add_p, noise_mean=0, noise_std=1):\n",
    "        \"\"\" We add noisy features to the dataset. \n",
    "        This is done by adding gaussian distributed \n",
    "        random variables to the original features.\n",
    "        :param add_p: np.array of additional features\n",
    "        :param noise_mean: mean for each additional feature\n",
    "        :param noise_std: standard deviation for each additional feature\n",
    "        :return X_transf: the dataset with additional noisy features\n",
    "        \"\"\"\n",
    "        if not self.minimal_dataset:\n",
    "            raise ValueError(\"Generate the dataset first\")\n",
    "           \n",
    "        if np.isscalar(noise_mean) and np.isscalar(noise_std):\n",
    "            return np.vstack((self.X, \n",
    "                              noise_mean + noise_std*np.random.randn(add_p, self.N)))\n",
    "        if add_p != noise_mean.size and add_p != noise_std.shape:\n",
    "            raise ValueError(\"Mismatch in dimensions\")\n",
    "        noise_feat = np.zeros((add_p, self.N))\n",
    "        for i_, (noise_m_, noise_s_) in enumerate(zip(noise_mean, noise_std)):\n",
    "            noise_feat[i_] = noise_m_ + noise_s_ * np.random.randn(self.N)\n",
    "        return np.vstack((self.X, noise_feat))"
   ]
  },
  {
   "cell_type": "code",
   "execution_count": 104,
   "metadata": {},
   "outputs": [
    {
     "data": {
      "image/png": "[encoded data removed]",
      "text/plain": [
       "<Figure size 432x288 with 1 Axes>"
      ]
     },
     "metadata": {
      "needs_background": "light"
     },
     "output_type": "display_data"
    }
   ],
   "source": [
    "p = 2\n",
    "n = 100\n",
    "k = 4\n",
    "\n",
    "DG = DatasetGenerator(p=p, N=n, K=k, class_task=True)\n",
    "\n",
    "feature_means = np.array([[5,5], [-5,-5], [-3,2], [5,-1]])\n",
    "DG.generate_minimal_data(feature_means, np.ones((k,p)))\n",
    "for k_ in range(k):\n",
    "    plt.scatter(DG.X[0, DG.y[k_]==1], DG.X[1, DG.y[k_]==1])"
   ]
  },
  {
   "cell_type": "code",
   "execution_count": 105,
   "metadata": {},
   "outputs": [
    {
     "data": {
      "image/png": "[encoded data removed]",
      "text/plain": [
       "<Figure size 432x288 with 1 Axes>"
      ]
     },
     "metadata": {
      "needs_background": "light"
     },
     "output_type": "display_data"
    }
   ],
   "source": [
    "p = 1\n",
    "k = 2\n",
    "DG = DatasetGenerator(p=p, N=n, K=k, class_task=False)\n",
    "\n",
    "feature_means = np.array([5, 5])\n",
    "feature_std = np.ones(p)\n",
    "regression_rule = np.array([[-3, 1]])\n",
    "DG.generate_minimal_data(feature_means, feature_std, regression_rule=regression_rule)\n",
    "\n",
    "for k_ in range(k):\n",
    "    plt.plot(DG.X[0], DG.y[0])    \n",
    "    plt.plot(DG.X[0], DG.y[1])"
   ]
  },
  {
   "cell_type": "code",
   "execution_count": 106,
   "metadata": {},
   "outputs": [
    {
     "data": {
      "text/plain": [
       "<mpl_toolkits.mplot3d.art3d.Path3DCollection at 0x114b76f60>"
      ]
     },
     "execution_count": 106,
     "metadata": {},
     "output_type": "execute_result"
    },
    {
     "data": {
      "image/png": "[encoded data removed]",
      "text/plain": [
       "<Figure size 432x288 with 1 Axes>"
      ]
     },
     "metadata": {
      "needs_background": "light"
     },
     "output_type": "display_data"
    }
   ],
   "source": [
    "p = 2\n",
    "k = 1\n",
    "DG = DatasetGenerator(p=p, N=n, K=k, class_task=False)\n",
    "\n",
    "feature_means = np.array([10, 5])\n",
    "feature_std = np.ones(p)\n",
    "regression_rule = np.array([[-3, 1]])\n",
    "DG.generate_minimal_data(feature_means, feature_std, regression_rule=regression_rule)\n",
    "\n",
    "\n",
    "fig = plt.figure()\n",
    "ax = fig.add_subplot(111, projection='3d')\n",
    "ax.scatter(DG.X[0], DG.X[1], DG.y) "
   ]
  },
  {
   "cell_type": "code",
   "execution_count": 107,
   "metadata": {},
   "outputs": [],
   "source": [
    "X_t = DG.add_redundancy(add_p=10)"
   ]
  },
  {
   "cell_type": "code",
   "execution_count": 108,
   "metadata": {},
   "outputs": [
    {
     "data": {
      "text/plain": [
       "((12, 100), 2)"
      ]
     },
     "execution_count": 108,
     "metadata": {},
     "output_type": "execute_result"
    }
   ],
   "source": [
    "X_t.shape, np.linalg.matrix_rank(X_t)"
   ]
  },
  {
   "cell_type": "code",
   "execution_count": 109,
   "metadata": {},
   "outputs": [
    {
     "name": "stdout",
     "output_type": "stream",
     "text": [
      "(5, 100)\n",
      "2\n"
     ]
    }
   ],
   "source": [
    "X_t = DG.add_redundancy(A=np.random.randn(3,p))\n",
    "print(X_t.shape)\n",
    "print(np.linalg.matrix_rank(X_t))"
   ]
  },
  {
   "cell_type": "code",
   "execution_count": 110,
   "metadata": {},
   "outputs": [
    {
     "name": "stdout",
     "output_type": "stream",
     "text": [
      "(12, 100) 12\n",
      "[10.15896973658509, 4.959114051894251, 0.02597310492823048, -0.16731290702145402, 0.10700072891064949, -0.04122552489218084, -0.019686139525232953, -0.02535891099797639, -0.14391814189482013, 0.07290005829475803, 0.06944643277794077, -0.11029273648439872]\n",
      "[1.027047399923, 0.9192346630008771, 0.9964468439667966, 0.8898370838035025, 0.9306189813089378, 0.8868619471807961, 0.8642063700176337, 0.9439999408965227, 1.0309451396583749, 1.0426580789107953, 1.033262640608822, 1.02958475969819]\n"
     ]
    }
   ],
   "source": [
    "X_t = DG.add_noise(add_p=10)\n",
    "print(X_t.shape, np.linalg.matrix_rank(X_t))\n",
    "print([np.mean(X_t_feat) for X_t_feat in X_t])\n",
    "print([np.std(X_t_feat) for X_t_feat in X_t])"
   ]
  },
  {
   "cell_type": "code",
   "execution_count": 113,
   "metadata": {},
   "outputs": [
    {
     "name": "stdout",
     "output_type": "stream",
     "text": [
      "(12, 100) 12\n",
      "[10.15896973658509, 4.959114051894251, 0.9723663736793694, 1.070488508647559, 0.9882836693156317, 1.118038532440805, 0.8428676939963371, 1.0663749471370898, 1.167647256247923, 0.8551824819644679, 1.0282315390442167, 0.8052594400993354]\n",
      "[1.027047399923, 0.9192346630008771, 0.9672059056559922, 1.019424604858266, 0.9136727055195901, 1.0065190752023008, 1.1348588389605767, 0.9866267240942287, 1.0650084017525405, 0.8678227221148055, 0.8809890376166885, 0.9894883104340879]\n"
     ]
    }
   ],
   "source": [
    "X_t = DG.add_noise(add_p=10, noise_mean=np.ones(10), noise_std=np.ones(10))\n",
    "print(X_t.shape, np.linalg.matrix_rank(X_t))\n",
    "print([np.mean(X_t_feat) for X_t_feat in X_t])\n",
    "print([np.std(X_t_feat) for X_t_feat in X_t])"
   ]
  },
  {
   "cell_type": "code",
   "execution_count": 134,
   "metadata": {},
   "outputs": [],
   "source": [
    "class DatasetGenerator:\n",
    "\n",
    "    def __init__(self,\n",
    "                 p,\n",
    "                 N,\n",
    "                 K,\n",
    "                 class_task=False,\n",
    "                 scenario=1,\n",
    "                 mu_array=None,\n",
    "                 sigma_array=None,\n",
    "                 **kwargs):\n",
    "        \"\"\"\n",
    "        Generate dataset for a supervised learning task. The features are extracted using\n",
    "        Gaussian distributions.\n",
    "        :param p: int, of relevant features\n",
    "        :param N: int, number of data\n",
    "        :param K: int, output dimension for regression, number of classes for classification task\n",
    "        :param class_task: bool, if False regression, else classification dataset\n",
    "        :param scenario: int, scenario (1,2,4)\n",
    "        :param mu_array: np.array (self.p) of means if regression, otherwise\n",
    "        (self.K, self.p) array for classification\n",
    "        :param sigma_array: np.array (self.p) of standard deviations, otherwise\n",
    "        (self.K, self.p) array for classification\n",
    "        :param regression_rule: only if self.class_task is False, we need a regression law\n",
    "        \"\"\"\n",
    "        self.p = p\n",
    "        self.N = N\n",
    "        self.K = K\n",
    "        self.class_task = class_task\n",
    "        self.scenario = scenario\n",
    "        self.mu_array = mu_array\n",
    "        self.sigma_array = sigma_array\n",
    "\n",
    "        self.X = None\n",
    "        self.y = None\n",
    "        self.minimal_dataset = None\n",
    "        dct_kwargs = kwargs\n",
    "        \n",
    "        self.generate_minimal_data()  # we generate the minimal dataset given the hyper-parameters\n",
    "\n",
    "        if scenario is not None:\n",
    "            if 'add_p' not in dct_kwargs.keys():\n",
    "                raise ValueError(\"Specify the amount of additional features through add_p\")\n",
    "            elif dct_kwargs['add_p'] == 0:\n",
    "                return\n",
    "            else:\n",
    "                self.add_p = dct_kwargs['add_p']\n",
    "\n",
    "        if self.scenario == 1:  # additional noisy features\n",
    "            self.noise_mean = np.array(dct_kwargs['noise_mean']) if 'noise_mean' in dct_kwargs.keys() else 0\n",
    "            self.noise_std = np.array(dct_kwargs['noise_std']) if 'noise_std' in dct_kwargs.keys() else 1\n",
    "            self.add_gaussian_noise()\n",
    "            \n",
    "        elif self.scenario == 2:  # additional redundant features\n",
    "            self.A = np.array(dct_kwargs['A']) if 'A' in dct_kwargs.keys() else None\n",
    "            self.add_redundancy()\n",
    "            \n",
    "        elif self.scenario == 4:  # add noise and redundancy\n",
    "            self.redundancy_amount = dct_kwargs['redundancy_amount'] if 'redundancy_amount' in dct_kwargs.keys() else 0.5\n",
    "            self.A = np.array(dct_kwargs['A']) if 'A' in dct_kwargs.keys() else None\n",
    "            self.noise_mean = np.array(dct_kwargs['noise_mean']) if 'noise_mean' in dct_kwargs.keys() else 0\n",
    "            self.noise_std = np.array(dct_kwargs['noise_std']) if 'noise_std' in dct_kwargs.keys() else 1\n",
    "            # when we call one or the other we automatically save the new self.X_transf\n",
    "            self.add_mixture()\n",
    "            \n",
    "\n",
    "    def generate_minimal_data(self):\n",
    "        \"\"\"\n",
    "        Here we generate the data by using the relevant features only.\n",
    "        Each feature is Gaussianly distributed. Mean and standard\n",
    "        deviation for each variable varies depending on the user specification.\n",
    "\n",
    "        The generic i-th feature is x_i\n",
    "                    x_i = mean_i + N(0,1) * std_i, x_i in R^n_samples\n",
    "\n",
    "        The labels are generating depending on the learning task.\n",
    "        If class_task is False, a regression rule is needed, and\n",
    "            y_k = np.dot(regression_rule, x_k)  , x_k in R^n_features,\n",
    "\n",
    "        If class_task is True, the classifier the two distribution are\n",
    "        given different values. # at the moment we are not considering the\n",
    "        multiclassification case.\n",
    "        \"\"\"\n",
    "        if not self.class_task and self.regression_rule is None:  # for regression task\n",
    "            raise ValueError(\"You need a learning rule to generate the regression law.\")\n",
    "\n",
    "        # regression task\n",
    "        if not self.class_task:\n",
    "            self.regression_rule = np.squeeze(self.regression_rule)\n",
    "\n",
    "            if self.regression_rule.ndim == 1:  #  p or K are equal to one\n",
    "                if self.regression_rule.size != self.p and self.regression_rule.size != self.K:\n",
    "                    raise ValueError(\"The regression rule does not match the data dimensionality\")\n",
    "            else:  # if the dimensionality if bigger than one\n",
    "                check_output, check_input = self.regression_rule.shape\n",
    "                if check_output != self.K or check_input != self.p:\n",
    "                    raise ValueError(\"The dimensions for the regression rule do not match the data\")\n",
    "\n",
    "            X_ = np.random.randn(self.p, self.N)  # we generate the new dataset\n",
    "            for id_, (mu_, sigma_) in enumerate(zip(self.mu_array, self.sigma_array)):\n",
    "                X_[id_] *= sigma_\n",
    "                X_[id_] += mu_\n",
    "            self.X = X_\n",
    "            if self.K != 1 and self.p == 1:  # if the number of output != 1\n",
    "                self.regression_rule = self.regression_rule.reshape(-1, 1)\n",
    "            elif self.K == 1 and self.p != 1:\n",
    "                self.regression_rule = self.regression_rule.reshape(-1, )\n",
    "            self.y = np.dot(self.regression_rule, self.X)\n",
    "\n",
    "        # classification task\n",
    "        else:\n",
    "            check_output_mu, check_input_mu = np.squeeze(self.mu_array).shape\n",
    "            check_output_st, check_input_st = np.squeeze(self.sigma_array).shape\n",
    "\n",
    "            if check_output_mu != self.K or check_output_st != self.K:\n",
    "                raise ValueError(\"Arrays inconsistent with the number of classes\")\n",
    "\n",
    "            n_per_class = self.N // self.K\n",
    "\n",
    "            X_ = np.zeros((self.p, self.N))\n",
    "            y_ = np.zeros((self.K, self.N))\n",
    "            for k_, (mu_class_, sigma_class_) in enumerate(zip(self.mu_array, self.sigma_array)):  # for each class\n",
    "                first_ = k_ * n_per_class\n",
    "                last_ = self.N if k_ == self.K - 1 else (k_ + 1) * n_per_class\n",
    "                for id_, (mu_, sigma_) in enumerate(zip(mu_class_, sigma_class_)):\n",
    "                    X_[id_, first_:last_] = mu_ + np.random.randn(last_ - first_) * sigma_\n",
    "                y_[k_, first_:last_] = 1\n",
    "\n",
    "            self.y = y_\n",
    "            self.X = X_\n",
    "        self.minimal_dataset = True\n",
    "\n",
    "        return self\n",
    "    \n",
    "    def add_redundancy(self):\n",
    "        \"\"\" We add redundancy to the dataset.\n",
    "        Using a linear combination of the input features.\n",
    "        \"\"\"\n",
    "        if not self.minimal_dataset:\n",
    "            raise ValueError(\"Generate the dataset first\")\n",
    "\n",
    "        if self.A is not None:\n",
    "            check_add_feat, check_d = self.A.shape  # check the dimensions\n",
    "            if check_d != self.p:\n",
    "                raise ValueError(\"The dimension of the transformation does not check the amount of features\")\n",
    "\n",
    "        else:\n",
    "            self.A = np.random.randn(self.add_p, self.p)  #  add redundancy through a linear transformation\n",
    "\n",
    "        self.X_transf = np.vstack((self.X, self.A.dot(self.X)))  # save as an attribute the feature\n",
    "        \n",
    "    \n",
    "    def add_gaussian_noise(self):\n",
    "        \"\"\" We add noisy features to the dataset.\n",
    "        This is done by adding gaussian distributed\n",
    "        random variables to the original features.\n",
    "        \"\"\"\n",
    "        if not self.minimal_dataset:\n",
    "            raise ValueError(\"Generate the dataset first\")\n",
    "\n",
    "        if np.isscalar(self.noise_mean) and np.isscalar(self.noise_std):\n",
    "            self.X_transf = np.vstack((self.X, (self.noise_mean + \n",
    "                                                self.noise_std * np.random.randn(self.add_p, self.N))))\n",
    "            return\n",
    "        \n",
    "        if self.add_p != self.noise_mean.size and self.add_p != self.noise_std.size:\n",
    "            raise ValueError(\"Mismatch in dimensions\")\n",
    "            \n",
    "        noise_feat = np.zeros((self.add_p, self.N))\n",
    "        for i_, (noise_m_, noise_s_) in enumerate(zip(self.noise_mean, self.noise_std)):\n",
    "            noise_feat[i_] = noise_m_ + noise_s_ * np.random.randn(self.N)\n",
    "        \n",
    "        self.X_transf = np.vstack((self.X, noise_feat))\n",
    "\n",
    "        return self\n",
    "    \n",
    "    def add_mixture(self):\n",
    "        \"\"\"With this call we add a percentage of redundancy and a (1-percentage) of noisy features.\n",
    "        \"\"\"\n",
    "        if self.A is None and np.isscalar(self.noise_mean) and np.isscalar(self.noise_std):\n",
    "            n_noise_feat = (self.add_p - int(self.add_p * self.redundancy_amount))\n",
    "            n_rdndt_feat = int(self.add_p * self.redundancy_amount)\n",
    "            self.A = np.random.randn(n_rdndt_feat, self.p)\n",
    "            noise_feat = self.noise_mean + self.noise_std * np.random.randn(n_noise_feat, self.N)\n",
    "\n",
    "        elif self.A is not None:\n",
    "            n_rdndt_feat, p_tmp = self.A.shape\n",
    "            n_noise_feat = self.add_p - n_rdndt_feat\n",
    "            if p_tmp != self.p:\n",
    "                raise ValueError(\"Mismatch in dimensions for the linear transformation\")\n",
    "                \n",
    "            if not np.isscalar(self.noise_mean) and not np.isscalar(self.noise_std):\n",
    "                noise_feat = np.zeros((self.noise_mean.size, self.N))\n",
    "                if self.noise_mean.size != self.noise_std.size:  # check that the shapes are consistent\n",
    "                    raise ValueError(\"The noise values are inconsistent in shape\")\n",
    "                n_noise_feat = self.noise_mean.size\n",
    "                # check not to exceed the add_p value\n",
    "                            \n",
    "                if self.add_p != (n_noise_feat + n_rdndt_feat):\n",
    "                    raise ValueError(\"The sum of the two dimensions is different from the specified number of additional features\")\n",
    "                for i_, (noise_m_, noise_s_) in enumerate(zip(self.noise_mean, self.noise_std)):\n",
    "                    noise_feat[i_] = noise_m_ + noise_s_ * np.random.randn(self.N)\n",
    "            else:\n",
    "                # tested\n",
    "                noise_feat = self.noise_mean + self.noise_std * np.random.randn(n_noise_feat, self.N)\n",
    "            \n",
    "        X_r = np.vstack((self.X, np.dot(self.A, self.X)))\n",
    "        self.noise = noise_feat\n",
    "        \n",
    "        self.X_transf = np.vstack((X_r, noise_feat))"
   ]
  },
  {
   "cell_type": "code",
   "execution_count": 122,
   "metadata": {},
   "outputs": [
    {
     "name": "stdout",
     "output_type": "stream",
     "text": [
      "{'regression_rule': 1, 'add_p': 10, 'A': [array([1.36850781, 1.74823223]), array([-0.58208566,  0.63837724]), array([ 0.38358457, -0.83622628]), array([-0.4772356 ,  0.44983352]), array([ 0.95027922, -1.16830452]), array([ 1.03271324, -2.1181744 ]), array([-1.44023229,  1.40427641]), array([0.54208906, 0.80517065]), array([ 2.22565267, -1.64485445]), array([-0.39972603, -1.07104972])]}\n"
     ]
    },
    {
     "data": {
      "image/png": "[encoded data removed]",
      "text/plain": [
       "<Figure size 432x288 with 1 Axes>"
      ]
     },
     "metadata": {
      "needs_background": "light"
     },
     "output_type": "display_data"
    }
   ],
   "source": [
    "mu_array = np.array([[5,5], [-5,-5], [-3,2], [5,-1]])\n",
    "sigma_array = np.ones((4,2))\n",
    "p = 2\n",
    "n = 100\n",
    "k = 4\n",
    "add_p = 10 \n",
    "\n",
    "DataGen = DatasetGenerator(p=p,N=n,K=k,class_task=True,\n",
    "                           scenario=2, mu_array=mu_array,\n",
    "                           sigma_array=sigma_array,\n",
    "                           regression_rule=1,\n",
    "                           add_p=add_p,\n",
    "                           A=list(np.random.randn(add_p, p)))\n",
    "\n",
    "for k_ in range(k):\n",
    "    plt.scatter(DataGen.X[0, DataGen.y[k_]==1], \n",
    "                DataGen.X[1, DataGen.y[k_]==1])"
   ]
  },
  {
   "cell_type": "code",
   "execution_count": 140,
   "metadata": {},
   "outputs": [
    {
     "name": "stdout",
     "output_type": "stream",
     "text": [
      "{'add_p': 10, 'noise_mean': [0.0, 0.0, 0.0, 0.0, 0.0, 0.0, 0.0, 0.0, 0.0, 0.0], 'noise_std': [3.0, 3.0, 3.0, 3.0, 3.0, 3.0, 3.0, 3.0, 3.0, 3.0]}\n",
      "scenario 1\n"
     ]
    },
    {
     "data": {
      "image/png": "[encoded data removed]",
      "text/plain": [
       "<Figure size 432x288 with 1 Axes>"
      ]
     },
     "metadata": {
      "needs_background": "light"
     },
     "output_type": "display_data"
    }
   ],
   "source": [
    "mu_array = np.array([[5,5], [-5,-5], [-3,2], [5,-1]])\n",
    "sigma_array = np.ones((4,2))\n",
    "p = 2\n",
    "n = 100\n",
    "k = 4\n",
    "add_p = 10 \n",
    "\n",
    "DataGen = DatasetGenerator(p=p,N=n,K=k,class_task=True,\n",
    "                           scenario=1, mu_array=mu_array,\n",
    "                           sigma_array=sigma_array,\n",
    "                           add_p=add_p,\n",
    "                           noise_mean=list(np.zeros(add_p)),\n",
    "                           noise_std=list(3*np.ones(add_p)))\n",
    "\n",
    "for k_ in range(k):\n",
    "    plt.scatter(DataGen.X[0, DataGen.y[k_]==1], \n",
    "                DataGen.X[1, DataGen.y[k_]==1])"
   ]
  },
  {
   "cell_type": "code",
   "execution_count": 82,
   "metadata": {},
   "outputs": [
    {
     "name": "stdout",
     "output_type": "stream",
     "text": [
      "12\n",
      "0.4682817885733532 4.687532331829856\n",
      "0.3875536692097986 3.7532463510858336\n",
      "0.13672630776401454 3.107086426717259\n",
      "-0.35902686673245604 2.863632865725918\n",
      "0.3065917768835142 2.922573783771708\n",
      "0.5189018717991678 3.1626091231149815\n",
      "-0.12601204730791307 3.3589342710957615\n",
      "-0.3879018952395761 2.8501184645918625\n",
      "-0.26072199995376777 2.6573332585136176\n",
      "-0.07868782981087334 3.448988961821748\n",
      "0.6087059481898056 3.0372778908046456\n",
      "0.488358010423966 2.836747913272676\n"
     ]
    }
   ],
   "source": [
    "# verify if you satify all the required conditions\n",
    "\n",
    "corrupted_dataset = DataGen.X_transf\n",
    "print(np.linalg.matrix_rank(corrupted_dataset))\n",
    "\n",
    "mean_ = np.mean(corrupted_dataset, axis=-1)\n",
    "std_ = np.std(corrupted_dataset, axis=-1)\n",
    "for (m_, s_) in zip(mean_, std_):\n",
    "    print(m_, s_)"
   ]
  },
  {
   "cell_type": "code",
   "execution_count": 135,
   "metadata": {},
   "outputs": [
    {
     "name": "stdout",
     "output_type": "stream",
     "text": [
      "{'add_p': 10, 'redundancy_amount': 0.25, 'A': [array([0.16052938, 0.10729123]), array([-0.23276781, -0.65139978]), array([2.07126562, 0.20652509])], 'noise_mean': [2, 3, 4, 5, 1, 1, 7], 'noise_std': [1.0, 1.0, 1.0, 1.0, 1.0, 1.0, 1.0]}\n",
      "scenario 4\n"
     ]
    },
    {
     "data": {
      "image/png": "[encoded data removed]",
      "text/plain": [
       "<Figure size 432x288 with 1 Axes>"
      ]
     },
     "metadata": {
      "needs_background": "light"
     },
     "output_type": "display_data"
    }
   ],
   "source": [
    "mu_array = np.array([[5,5], [-5,-5], [-3,2], [5,-1]])\n",
    "sigma_array = np.ones((4,2))\n",
    "p = 2\n",
    "n = 100\n",
    "k = 4\n",
    "add_p = 10 \n",
    "\n",
    "DataGen = DatasetGenerator(p=p,N=n,K=k,class_task=True,\n",
    "                           scenario=4, mu_array=mu_array,\n",
    "                           sigma_array=sigma_array,\n",
    "                           add_p=add_p,\n",
    "                           redundancy_amount=0.25,\n",
    "                           A=list(np.random.randn(3,p)),\n",
    "                           noise_mean=list(np.array([2,3,4,5,1,1,7])),\n",
    "                           noise_std=list(np.ones(7)))\n",
    "\n",
    "for k_ in range(k):\n",
    "    plt.scatter(DataGen.X[0, DataGen.y[k_]==1], \n",
    "                DataGen.X[1, DataGen.y[k_]==1])"
   ]
  },
  {
   "cell_type": "code",
   "execution_count": 136,
   "metadata": {},
   "outputs": [
    {
     "data": {
      "text/plain": [
       "(array([[ 0.16052938,  0.10729123],\n",
       "        [-0.23276781, -0.65139978],\n",
       "        [ 2.07126562,  0.20652509]]), (7, 100))"
      ]
     },
     "execution_count": 136,
     "metadata": {},
     "output_type": "execute_result"
    }
   ],
   "source": [
    "DataGen.A, DataGen.noise.shape"
   ]
  },
  {
   "cell_type": "code",
   "execution_count": 137,
   "metadata": {},
   "outputs": [
    {
     "data": {
      "text/plain": [
       "array([1.98883611, 2.97021885, 3.98849682, 4.86114183, 1.18220642,\n",
       "       1.03132475, 7.07272365])"
      ]
     },
     "execution_count": 137,
     "metadata": {},
     "output_type": "execute_result"
    }
   ],
   "source": [
    "np.mean(DataGen.noise, axis=1)"
   ]
  },
  {
   "cell_type": "code",
   "execution_count": 138,
   "metadata": {},
   "outputs": [
    {
     "data": {
      "text/plain": [
       "array([1.06845668, 1.22712876, 1.04958551, 0.97464266, 1.17356994,\n",
       "       0.95816109, 1.09234127])"
      ]
     },
     "execution_count": 138,
     "metadata": {},
     "output_type": "execute_result"
    }
   ],
   "source": [
    "np.std(DataGen.noise, axis=1)"
   ]
  },
  {
   "cell_type": "code",
   "execution_count": 148,
   "metadata": {},
   "outputs": [],
   "source": [
    "dct_kwargs = {'add_p': 10,\n",
    "              'redundancy_amount': 0.25,\n",
    "              'A': list(np.random.randn(3,p)), \n",
    "              'noise_mean': list(np.array([2,3,4,5,1,1,7])),\n",
    "              'noise_std': list(np.ones(7))}"
   ]
  },
  {
   "cell_type": "code",
   "execution_count": 150,
   "metadata": {},
   "outputs": [
    {
     "name": "stdout",
     "output_type": "stream",
     "text": [
      "{'add_p': 10, 'redundancy_amount': 0.25, 'A': [array([ 1.04279634, -0.81581973]), array([-1.54221795, -0.18967953]), array([-1.36194486,  0.55557362])], 'noise_mean': [2, 3, 4, 5, 1, 1, 7], 'noise_std': [1.0, 1.0, 1.0, 1.0, 1.0, 1.0, 1.0]}\n",
      "scenario 4\n"
     ]
    }
   ],
   "source": [
    "DataGen = DatasetGenerator(p=p,N=n,K=k,class_task=True,\n",
    "                           scenario=4, mu_array=mu_array,\n",
    "                           sigma_array=sigma_array,\n",
    "                           **dct_kwargs)"
   ]
  },
  {
   "cell_type": "code",
   "execution_count": null,
   "metadata": {},
   "outputs": [],
   "source": []
  }
 ],
 "metadata": {
  "kernelspec": {
   "display_name": "Python 3",
   "language": "python",
   "name": "python3"
  },
  "language_info": {
   "codemirror_mode": {
    "name": "ipython",
    "version": 3
   },
   "file_extension": ".py",
   "mimetype": "text/x-python",
   "name": "python",
   "nbconvert_exporter": "python",
   "pygments_lexer": "ipython3",
   "version": "3.7.3"
  }
 },
 "nbformat": 4,
 "nbformat_minor": 2
}
