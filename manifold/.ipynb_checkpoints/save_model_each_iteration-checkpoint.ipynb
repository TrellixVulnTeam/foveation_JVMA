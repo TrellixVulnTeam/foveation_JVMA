{
 "cells": [
  {
   "cell_type": "code",
   "execution_count": 1,
   "metadata": {},
   "outputs": [],
   "source": [
    "%matplotlib inline\n",
    "\n",
    "import os\n",
    "import numpy as np\n",
    "import tensorflow as tf\n",
    "from os.path import join\n",
    "import matplotlib.pyplot as plt\n",
    "from tensorflow.keras.layers import Flatten, Dense, Conv2D, MaxPooling2D\n",
    "from tensorflow.keras.optimizers import SGD\n",
    "from tensorflow.keras.callbacks import EarlyStopping, ReduceLROnPlateau, ModelCheckpoint"
   ]
  },
  {
   "cell_type": "code",
   "execution_count": 2,
   "metadata": {},
   "outputs": [],
   "source": [
    "(X_tr, y_tr), (X_ts, y_ts) = tf.keras.datasets.mnist.load_data()"
   ]
  },
  {
   "cell_type": "code",
   "execution_count": 3,
   "metadata": {},
   "outputs": [],
   "source": [
    "nodes = 128\n",
    "n_classes = np.unique(y_tr).size\n",
    "\n",
    "model = tf.keras.Sequential()\n",
    "model.add(Flatten(input_shape=(28,28,)))\n",
    "model.add(Dense(nodes, activation='relu'))\n",
    "model.add(Dense(n_classes, activation='softmax'))\n",
    "\n",
    "model.compile(optimizer='sgd',\n",
    "              loss='sparse_categorical_crossentropy',\n",
    "              metrics=['accuracy'])"
   ]
  },
  {
   "cell_type": "code",
   "execution_count": 4,
   "metadata": {},
   "outputs": [],
   "source": [
    "checkpoint_path = \"checkpoint/cp_{epoch:02d}.ckpt\"\n",
    "checkpoint_dir = os.path.dirname(checkpoint_path)\n",
    "os.makedirs(checkpoint_dir, exist_ok=True)\n",
    "\n",
    "cp_callback = ModelCheckpoint(filepath=checkpoint_path,\n",
    "                              save_weights_only=True,\n",
    "                              save_best_only=False,\n",
    "                              verbose=1,\n",
    "                              save_freq='epoch')"
   ]
  },
  {
   "cell_type": "code",
   "execution_count": 5,
   "metadata": {},
   "outputs": [],
   "source": [
    "n_tr = 100\n",
    "\n",
    "X_vl = X_tr[n_tr:]\n",
    "X_tr = X_tr[:n_tr]\n",
    "\n",
    "y_vl = y_tr[n_tr:]\n",
    "y_tr = y_tr[:n_tr]"
   ]
  },
  {
   "cell_type": "code",
   "execution_count": 6,
   "metadata": {},
   "outputs": [
    {
     "name": "stdout",
     "output_type": "stream",
     "text": [
      "Train on 100 samples, validate on 59900 samples\n",
      "Epoch 1/5\n",
      "\n",
      "Epoch 00001: saving model to checkpoint/cp_01.ckpt\n",
      "100/100 [==============================] - 2s 16ms/sample - loss: 171.8044 - accuracy: 0.1300 - val_loss: 2996.4267 - val_accuracy: 0.2052\n",
      "Epoch 2/5\n",
      "\n",
      "Epoch 00002: saving model to checkpoint/cp_02.ckpt\n",
      "100/100 [==============================] - 1s 11ms/sample - loss: 3029.7329 - accuracy: 0.2400 - val_loss: 4363.2201 - val_accuracy: 0.1528\n",
      "Epoch 3/5\n",
      "\n",
      "Epoch 00003: saving model to checkpoint/cp_03.ckpt\n",
      "100/100 [==============================] - 1s 11ms/sample - loss: 4768.8135 - accuracy: 0.1500 - val_loss: 6816.7335 - val_accuracy: 0.1020\n",
      "Epoch 4/5\n",
      "\n",
      "Epoch 00004: saving model to checkpoint/cp_04.ckpt\n",
      "100/100 [==============================] - 1s 11ms/sample - loss: 6953.9106 - accuracy: 0.1400 - val_loss: 12698.0317 - val_accuracy: 0.0986\n",
      "Epoch 5/5\n",
      "\n",
      "Epoch 00005: saving model to checkpoint/cp_05.ckpt\n",
      "100/100 [==============================] - 1s 11ms/sample - loss: 15362.2012 - accuracy: 0.1100 - val_loss: 3646.2207 - val_accuracy: 0.1891\n"
     ]
    }
   ],
   "source": [
    "history = model.fit(x=X_tr,\n",
    "                    y=y_tr,\n",
    "                    epochs=5,\n",
    "                    batch_size=100,\n",
    "                    validation_data=(X_vl, y_vl),\n",
    "                    callbacks=[cp_callback])"
   ]
  },
  {
   "cell_type": "code",
   "execution_count": 7,
   "metadata": {
    "scrolled": true
   },
   "outputs": [
    {
     "name": "stdout",
     "output_type": "stream",
     "text": [
      "Model: \"sequential_1\"\n",
      "_________________________________________________________________\n",
      "Layer (type)                 Output Shape              Param #   \n",
      "=================================================================\n",
      "flatten_1 (Flatten)          (None, 784)               0         \n",
      "_________________________________________________________________\n",
      "dense_2 (Dense)              (None, 128)               100480    \n",
      "_________________________________________________________________\n",
      "dense_3 (Dense)              (None, 10)                1290      \n",
      "=================================================================\n",
      "Total params: 101,770\n",
      "Trainable params: 101,770\n",
      "Non-trainable params: 0\n",
      "_________________________________________________________________\n"
     ]
    }
   ],
   "source": [
    "model_new = tf.keras.Sequential()\n",
    "nodes=128\n",
    "n_classes=10\n",
    "model_new.add(Flatten(input_shape=(28,28,)))\n",
    "model_new.add(Dense(nodes, activation='relu'))\n",
    "model_new.add(Dense(n_classes, activation='softmax'))\n",
    "\n",
    "model_new.compile(optimizer='sgd',\n",
    "              loss='sparse_categorical_crossentropy',\n",
    "              metrics=['accuracy'])\n",
    "\n",
    "model_new.summary()"
   ]
  },
  {
   "cell_type": "code",
   "execution_count": 13,
   "metadata": {},
   "outputs": [
    {
     "data": {
      "text/plain": [
       "'checkpoint/cp_05.ckpt'"
      ]
     },
     "execution_count": 13,
     "metadata": {},
     "output_type": "execute_result"
    }
   ],
   "source": [
    "latest = tf.train.latest_checkpoint(checkpoint_dir)\n",
    "latest"
   ]
  },
  {
   "cell_type": "code",
   "execution_count": 14,
   "metadata": {},
   "outputs": [
    {
     "data": {
      "text/plain": [
       "<tensorflow.python.training.tracking.util.CheckpointLoadStatus at 0xb3a46a6d8>"
      ]
     },
     "execution_count": 14,
     "metadata": {},
     "output_type": "execute_result"
    }
   ],
   "source": [
    "model_new.load_weights(latest)"
   ]
  },
  {
   "cell_type": "code",
   "execution_count": 15,
   "metadata": {},
   "outputs": [
    {
     "data": {
      "text/plain": [
       "[<tf.Variable 'dense_2/kernel:0' shape=(784, 128) dtype=float32, numpy=\n",
       " array([[-0.07783668, -0.02070515, -0.05053351, ..., -0.02784806,\n",
       "         -0.04537976, -0.06529312],\n",
       "        [-0.00805727,  0.0581274 , -0.00715165, ...,  0.066951  ,\n",
       "         -0.03352453,  0.06791117],\n",
       "        [ 0.01524504,  0.01145628, -0.04390196, ..., -0.00702702,\n",
       "          0.05692265,  0.07503694],\n",
       "        ...,\n",
       "        [-0.04490545, -0.02593266,  0.07017189, ...,  0.05841414,\n",
       "         -0.01869958, -0.07579486],\n",
       "        [-0.07930264,  0.03656329, -0.01906898, ...,  0.02907538,\n",
       "         -0.01763   , -0.04813129],\n",
       "        [-0.05327711, -0.03428362, -0.01786644, ...,  0.03825085,\n",
       "         -0.05213016,  0.04331684]], dtype=float32)>,\n",
       " <tf.Variable 'dense_2/bias:0' shape=(128,) dtype=float32, numpy=\n",
       " array([-9.5348878e-05, -7.5824256e-04, -1.6841773e-04, -2.7600443e-04,\n",
       "        -9.5423294e-04, -7.7495375e-04, -3.2228179e-04, -2.2641562e-03,\n",
       "         1.6353496e-04, -4.2950673e-04, -2.9968747e-04, -4.1736843e-04,\n",
       "        -1.1179900e-03, -9.5885931e-05, -2.0119012e-04, -3.9305585e-04,\n",
       "        -1.0452745e-03, -4.8737467e-04, -9.5705725e-03, -3.3309392e-04,\n",
       "        -2.3602098e-04, -4.4851407e-04,  8.0508842e-05, -9.6671097e-04,\n",
       "        -1.4740243e-03, -3.1234304e-04, -1.3311348e-04, -1.7195314e-03,\n",
       "        -4.5474808e-04, -1.9415768e-02, -5.6987128e-04, -2.9898132e-04,\n",
       "        -7.8142073e-04, -3.2284469e-04, -3.1378841e-05, -8.2802068e-04,\n",
       "        -6.8932306e-04, -3.4148023e-03, -1.5302325e-04,  1.3168415e-03,\n",
       "        -4.0556680e-04, -8.5856946e-04, -3.5781803e-04, -3.3407798e-04,\n",
       "        -1.3026670e-03, -1.8195841e-03, -7.5430935e-04, -1.8464761e-04,\n",
       "        -2.2122321e-04, -5.4478634e-04, -3.5671578e-03, -4.3626982e-04,\n",
       "        -2.6949975e-04, -4.6773400e-04, -8.5279840e-04, -1.9938280e-04,\n",
       "        -5.5675791e-04, -5.4442324e-04,  4.2787797e-06, -2.6583337e-04,\n",
       "        -1.2889037e-04, -1.2221799e-04, -9.5791876e-04, -1.7556346e-04,\n",
       "        -1.9730933e-04, -2.1032155e-03, -2.8295230e-04, -1.3907609e-04,\n",
       "         3.2125405e-04, -3.8187995e-05, -2.3803208e-05, -4.6921935e-04,\n",
       "        -2.9928589e-04, -2.5400668e-04, -1.9178601e-04, -1.9381604e-04,\n",
       "        -7.3794782e-04, -1.2673751e-03,  9.2839636e-04, -2.1552711e-04,\n",
       "        -3.4290279e-04, -3.5041220e-02, -2.9200758e-04, -3.1559870e-03,\n",
       "        -9.1130350e-05,  8.3347596e-04, -8.6789904e-04, -1.3623037e-04,\n",
       "        -4.1339293e-04, -2.1480871e-03, -8.2165789e-04, -3.1582455e-04,\n",
       "        -1.9556182e-03, -5.3886580e-04, -2.7354748e-04, -2.9295776e-04,\n",
       "        -1.1912026e-03, -6.4270885e-04, -3.5941132e-04, -2.2550259e-05,\n",
       "        -7.1120064e-04, -1.3624048e-03, -1.8549740e-02, -5.9143091e-05,\n",
       "        -2.9256428e-04, -1.1991624e-02, -6.3824900e-03, -3.8845491e-04,\n",
       "        -1.3108312e-03,  7.8029072e-05, -5.4340711e-04, -3.4571814e-05,\n",
       "        -6.5240235e-04, -9.8297291e-04, -9.6946940e-05, -1.2766134e-03,\n",
       "        -2.0315366e-04,  1.9160900e-04, -7.9103117e-04, -6.9501455e-04,\n",
       "        -9.1871072e-04, -4.1306950e-04, -7.4147020e-04, -3.3618843e-03,\n",
       "        -1.0862456e-03, -6.0242187e-04, -8.1216203e-06, -9.0780826e-03],\n",
       "       dtype=float32)>,\n",
       " <tf.Variable 'dense_3/kernel:0' shape=(128, 10) dtype=float32, numpy=\n",
       " array([[ 3.8556993e-02, -5.0470874e-02,  5.7401970e-02, ...,\n",
       "         -1.2928244e-01, -6.4716721e-03, -6.6090703e-02],\n",
       "        [ 3.5579405e+00, -8.4762077e+00,  1.7921338e+00, ...,\n",
       "          1.6375724e+00,  2.8770854e+00,  2.4876268e+00],\n",
       "        [ 1.8393770e-02,  6.3955605e-02, -1.0441385e-01, ...,\n",
       "          3.8986836e-02,  1.3931073e-01, -1.2348881e-01],\n",
       "        ...,\n",
       "        [-5.9685990e-02,  1.2214537e-01, -7.3702917e-02, ...,\n",
       "         -5.0583243e-02,  5.7046235e-02,  3.0575790e-02],\n",
       "        [-1.5221491e-01, -1.5335162e-01, -7.4614115e-02, ...,\n",
       "         -5.9355672e-02, -1.6557230e-01, -6.2274147e-02],\n",
       "        [ 5.9135523e+00,  4.7673554e+00,  3.4672678e+00, ...,\n",
       "          3.1026580e+00,  4.5546298e+00,  4.0314274e+00]], dtype=float32)>,\n",
       " <tf.Variable 'dense_3/bias:0' shape=(10,) dtype=float32, numpy=\n",
       " array([-0.00799925,  0.00240025,  0.00075194, -0.00379045,  0.00480002,\n",
       "         0.0025    , -0.00980027,  0.00203777,  0.004     ,  0.00509999],\n",
       "       dtype=float32)>]"
      ]
     },
     "execution_count": 15,
     "metadata": {},
     "output_type": "execute_result"
    }
   ],
   "source": [
    "model_new.weights"
   ]
  },
  {
   "cell_type": "code",
   "execution_count": null,
   "metadata": {},
   "outputs": [],
   "source": [
    "model_new."
   ]
  }
 ],
 "metadata": {
  "kernelspec": {
   "display_name": "Python 3",
   "language": "python",
   "name": "python3"
  },
  "language_info": {
   "codemirror_mode": {
    "name": "ipython",
    "version": 3
   },
   "file_extension": ".py",
   "mimetype": "text/x-python",
   "name": "python",
   "nbconvert_exporter": "python",
   "pygments_lexer": "ipython3",
   "version": "3.7.3"
  }
 },
 "nbformat": 4,
 "nbformat_minor": 2
}
