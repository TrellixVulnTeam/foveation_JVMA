{
 "cells": [
  {
   "cell_type": "code",
   "execution_count": 11,
   "metadata": {},
   "outputs": [],
   "source": [
    "%matplotlib inline\n",
    "\n",
    "import os\n",
    "import numpy as np\n",
    "import tensorflow as tf\n",
    "from os.path import join\n",
    "import matplotlib.pyplot as plt\n",
    "from tensorflow.keras.layers import Flatten, Dense, Conv2D, MaxPooling2D\n",
    "from tensorflow.keras.optimizers import SGD\n",
    "from tensorflow.keras.callbacks import EarlyStopping, ReduceLROnPlateau, ModelCheckpoint"
   ]
  },
  {
   "cell_type": "code",
   "execution_count": 12,
   "metadata": {},
   "outputs": [],
   "source": [
    "(X_tr, y_tr), (X_ts, y_ts) = tf.keras.datasets.mnist.load_data()"
   ]
  },
  {
   "cell_type": "code",
   "execution_count": 13,
   "metadata": {},
   "outputs": [],
   "source": [
    "nodes = 128\n",
    "n_classes = np.unique(y_tr).size\n",
    "\n",
    "model = tf.keras.Sequential()\n",
    "model.add(Flatten(input_shape=(28,28,)))\n",
    "model.add(Dense(nodes, activation='relu'))\n",
    "model.add(Dense(n_classes, activation='softmax'))\n",
    "\n",
    "model.compile(optimizer='sgd',\n",
    "              loss='sparse_categorical_crossentropy',\n",
    "              metrics=['accuracy'])"
   ]
  },
  {
   "cell_type": "code",
   "execution_count": 14,
   "metadata": {},
   "outputs": [],
   "source": [
    "checkpoint_path = \"checkpoint/cp_{epoch:02d}.ckpt\"\n",
    "checkpoint_dir = os.path.dirname(checkpoint_path)\n",
    "os.makedirs(checkpoint_dir, exist_ok=True)\n",
    "\n",
    "cp_callback = ModelCheckpoint(filepath=checkpoint_path,\n",
    "                              save_weights_only=True,\n",
    "                              save_best_only=False,\n",
    "                              verbose=1,\n",
    "                              save_freq='epoch')"
   ]
  },
  {
   "cell_type": "code",
   "execution_count": 15,
   "metadata": {},
   "outputs": [],
   "source": [
    "n_tr = 100\n",
    "\n",
    "X_vl = X_tr[n_tr:]\n",
    "X_tr = X_tr[:n_tr]\n",
    "\n",
    "y_vl = y_tr[n_tr:]\n",
    "y_tr = y_tr[:n_tr]"
   ]
  },
  {
   "cell_type": "code",
   "execution_count": 6,
   "metadata": {},
   "outputs": [
    {
     "name": "stdout",
     "output_type": "stream",
     "text": [
      "Train on 100 samples, validate on 59900 samples\n",
      "Epoch 1/5\n",
      "\n",
      "Epoch 00001: saving model to checkpoint/cp_01.ckpt\n",
      "100/100 [==============================] - 2s 22ms/sample - loss: 131.5085 - accuracy: 0.0700 - val_loss: 2386.2916 - val_accuracy: 0.1488\n",
      "Epoch 2/5\n",
      "\n",
      "Epoch 00002: saving model to checkpoint/cp_02.ckpt\n",
      "100/100 [==============================] - 1s 13ms/sample - loss: 2163.5161 - accuracy: 0.2000 - val_loss: 23761.2010 - val_accuracy: 0.0987\n",
      "Epoch 3/5\n",
      "\n",
      "Epoch 00003: saving model to checkpoint/cp_03.ckpt\n",
      "100/100 [==============================] - 1s 13ms/sample - loss: 24244.0879 - accuracy: 0.1300 - val_loss: 8033.9929 - val_accuracy: 0.2021\n",
      "Epoch 4/5\n",
      "\n",
      "Epoch 00004: saving model to checkpoint/cp_04.ckpt\n",
      "100/100 [==============================] - 1s 14ms/sample - loss: 9159.9121 - accuracy: 0.2500 - val_loss: 2206.9069 - val_accuracy: 0.1591\n",
      "Epoch 5/5\n",
      "\n",
      "Epoch 00005: saving model to checkpoint/cp_05.ckpt\n",
      "100/100 [==============================] - 1s 14ms/sample - loss: 2335.8364 - accuracy: 0.1600 - val_loss: 274.4749 - val_accuracy: 0.2706\n"
     ]
    }
   ],
   "source": [
    "history = model.fit(x=X_tr,\n",
    "                    y=y_tr,\n",
    "                    epochs=5,\n",
    "                    batch_size=100,\n",
    "                    validation_data=(X_vl, y_vl),\n",
    "                    callbacks=[cp_callback])"
   ]
  },
  {
   "cell_type": "code",
   "execution_count": 16,
   "metadata": {
    "scrolled": true
   },
   "outputs": [
    {
     "name": "stdout",
     "output_type": "stream",
     "text": [
      "Model: \"sequential_3\"\n",
      "_________________________________________________________________\n",
      "Layer (type)                 Output Shape              Param #   \n",
      "=================================================================\n",
      "flatten_3 (Flatten)          (None, 784)               0         \n",
      "_________________________________________________________________\n",
      "dense_6 (Dense)              (None, 128)               100480    \n",
      "_________________________________________________________________\n",
      "dense_7 (Dense)              (None, 10)                1290      \n",
      "=================================================================\n",
      "Total params: 101,770\n",
      "Trainable params: 101,770\n",
      "Non-trainable params: 0\n",
      "_________________________________________________________________\n"
     ]
    }
   ],
   "source": [
    "model_new = tf.keras.Sequential()\n",
    "nodes=128\n",
    "n_classes=10\n",
    "model_new.add(Flatten(input_shape=(28,28,)))\n",
    "model_new.add(Dense(nodes, activation='relu'))\n",
    "model_new.add(Dense(n_classes, activation='softmax'))\n",
    "\n",
    "model_new.compile(optimizer='sgd',\n",
    "              loss='sparse_categorical_crossentropy',\n",
    "              metrics=['accuracy'])\n",
    "\n",
    "model_new.summary()"
   ]
  },
  {
   "cell_type": "code",
   "execution_count": 17,
   "metadata": {},
   "outputs": [
    {
     "data": {
      "text/plain": [
       "'checkpoint/cp_05.ckpt'"
      ]
     },
     "execution_count": 17,
     "metadata": {},
     "output_type": "execute_result"
    }
   ],
   "source": [
    "latest = tf.train.latest_checkpoint(checkpoint_dir)\n",
    "latest"
   ]
  },
  {
   "cell_type": "code",
   "execution_count": 21,
   "metadata": {},
   "outputs": [
    {
     "name": "stdout",
     "output_type": "stream",
     "text": [
      "checkpoint/cp_03.ckpt\n"
     ]
    },
    {
     "data": {
      "text/plain": [
       "<tensorflow.python.training.tracking.util.CheckpointLoadStatus at 0x10d2c0c18>"
      ]
     },
     "execution_count": 21,
     "metadata": {},
     "output_type": "execute_result"
    }
   ],
   "source": [
    "e_ = 3\n",
    "print(f'checkpoint/cp_{e_:02d}.ckpt')\n",
    "model_new.load_weights(f'checkpoint/cp_{e_:02d}.ckpt')"
   ]
  },
  {
   "cell_type": "code",
   "execution_count": 8,
   "metadata": {},
   "outputs": [
    {
     "data": {
      "text/plain": [
       "<tensorflow.python.training.tracking.util.CheckpointLoadStatus at 0x11bd23400>"
      ]
     },
     "execution_count": 8,
     "metadata": {},
     "output_type": "execute_result"
    }
   ],
   "source": [
    "model_new.load_weights('checkpoint/cp_03.ckpt')"
   ]
  },
  {
   "cell_type": "code",
   "execution_count": null,
   "metadata": {
    "scrolled": true
   },
   "outputs": [],
   "source": [
    "model_new.weights"
   ]
  },
  {
   "cell_type": "code",
   "execution_count": 9,
   "metadata": {},
   "outputs": [
    {
     "name": "stdout",
     "output_type": "stream",
     "text": [
      "[[  0.       940.6448     0.         0.         0.         0.\n",
      "    0.         0.         0.       733.0024     0.         0.\n",
      "    0.         0.         0.         0.         0.         0.\n",
      "    0.         0.         0.         0.         0.         0.\n",
      "    0.         0.         0.         0.         0.         0.\n",
      "    0.         0.         0.         0.         0.         0.\n",
      "    0.         0.         0.         0.         0.         0.\n",
      "    0.         0.         0.         0.         0.         0.\n",
      "    0.        17.822124   0.         0.         0.         0.\n",
      "    0.         0.         0.         0.       272.70444    0.\n",
      "    0.        57.491497   0.         0.         0.         0.\n",
      "    0.         0.         0.       224.2587     0.       919.0975\n",
      "    0.         0.         0.         0.         0.         0.\n",
      "    0.         0.         0.         0.         0.         0.\n",
      "  667.0386     0.         0.         0.         0.         0.\n",
      "    0.         0.         0.         0.         0.         0.\n",
      "   21.735476   0.         0.         0.         0.         0.\n",
      "    0.         0.         0.         0.         0.         0.\n",
      "    0.         0.         0.         0.         0.        89.87326\n",
      "    0.         0.         0.         0.         0.       178.81905\n",
      "  919.9949     0.         0.         0.         0.         0.\n",
      "    0.         0.      ]]\n"
     ]
    }
   ],
   "source": [
    "weights, bias = model_new.layers[1].get_weights()\n",
    "f = np.maximum(np.dot(X_tr[60].reshape(1, 784), weights) + bias, 0)\n",
    "print(f)"
   ]
  },
  {
   "cell_type": "code",
   "execution_count": null,
   "metadata": {},
   "outputs": [],
   "source": [
    "np.maximum(X_tr.reshape(-1, 784).dot(np.random.randn(784, 3)), 0)"
   ]
  },
  {
   "cell_type": "code",
   "execution_count": null,
   "metadata": {},
   "outputs": [],
   "source": []
  }
 ],
 "metadata": {
  "kernelspec": {
   "display_name": "Python 3",
   "language": "python",
   "name": "python3"
  },
  "language_info": {
   "codemirror_mode": {
    "name": "ipython",
    "version": 3
   },
   "file_extension": ".py",
   "mimetype": "text/x-python",
   "name": "python",
   "nbconvert_exporter": "python",
   "pygments_lexer": "ipython3",
   "version": "3.7.3"
  }
 },
 "nbformat": 4,
 "nbformat_minor": 2
}
